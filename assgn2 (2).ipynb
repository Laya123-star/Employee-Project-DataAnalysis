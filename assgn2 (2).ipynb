{
 "cells": [
  {
   "cell_type": "code",
   "execution_count": 16,
   "metadata": {},
   "outputs": [
    {
     "name": "stdout",
     "output_type": "stream",
     "text": [
      "      ID     Project       Cost    Status\n",
      "0   A001   Project 1  1002000.0  Finished\n",
      "1   A002   Project 2  2000000.0   Ongoing\n",
      "2   A003   Project 3  4500000.0  Finished\n",
      "3   A004   Project 4  5500000.0   Ongoing\n",
      "4   A005   Project 5        NaN  Finished\n",
      "5   A002   Project 6   680000.0    Failed\n",
      "6   A005   Project 7   400000.0  Finished\n",
      "7   A003   Project 8   350000.0    Failed\n",
      "8   A001   Project 9        NaN   Ongoing\n",
      "9   A003  Project 10   300000.0  Finished\n",
      "10  A001  Project 11  2000000.0    Failed\n",
      "11  A004  Project 12  1000000.0   Ongoing\n",
      "12  A004  Project 13  3000000.0  Finished\n",
      "13  A005  Project 14   200000.0  Finished\n",
      "\n",
      "     ID             Name Gender     City  Age\n",
      "0  A001       John Alter      M    Paris   25\n",
      "1  A002  Alice Luxumberg      F   London   27\n",
      "2  A003    Tom Sabestine      M   Berlin   29\n",
      "3  A004       Nina Adgra      F  Newyork   31\n",
      "4  A005        Amy Johny      F   Madrid   30\n",
      "\n",
      "     ID  Designation Level\n",
      "0  A001                  2\n",
      "1  A002                  2\n",
      "2  A003                  3\n",
      "3  A004                  2\n",
      "4  A005                  3\n"
     ]
    }
   ],
   "source": [
    "#importing python libraries\n",
    "import pandas\n",
    "import numpy\n",
    "# Project DataFrame\n",
    "project_df = pandas.DataFrame(\n",
    "    {\n",
    "        'ID': ['A001', 'A002', 'A003', 'A004', 'A005', 'A002', 'A005', 'A003', 'A001', 'A003', 'A001', 'A004', 'A004', 'A005'],\n",
    "        'Project': ['Project 1', 'Project 2', 'Project 3', 'Project 4', 'Project 5', 'Project 6', 'Project 7', 'Project 8', 'Project 9', 'Project 10', 'Project 11', 'Project 12', 'Project 13', 'Project 14'],\n",
    "        'Cost': [1002000, 2000000, 4500000, 5500000, None, 680000, 400000, 350000, None, 300000, 2000000, 1000000, 3000000, 200000],\n",
    "        'Status': ['Finished', 'Ongoing', 'Finished', 'Ongoing', 'Finished', 'Failed', 'Finished', 'Failed', 'Ongoing', 'Finished', 'Failed', 'Ongoing', 'Finished', 'Finished']\n",
    "    }\n",
    ")\n",
    "# Employee DataFrame\n",
    "employee_df = pandas.DataFrame(\n",
    "    {\n",
    "        'ID': ['A001', 'A002', 'A003', 'A004', 'A005'],\n",
    "        'Name': ['John Alter', 'Alice Luxumberg', 'Tom Sabestine', 'Nina Adgra', 'Amy Johny'],\n",
    "        'Gender': ['M', 'F', 'M', 'F', 'F'],\n",
    "        'City': ['Paris', 'London', 'Berlin', 'Newyork', 'Madrid'],\n",
    "        'Age': [25, 27, 29, 31, 30]\n",
    "    }\n",
    ")\n",
    "#Seniority level DataFrame\n",
    "seniority_df = pandas.DataFrame(\n",
    "    {\n",
    "        'ID': ['A001', 'A002', 'A003', 'A004', 'A005'],\n",
    "        'Designation Level': [2, 2, 3, 2, 3]\n",
    "    }\n",
    ")\n",
    "\n",
    "# Save DataFrames to CSV files\n",
    "project_df.to_csv('ProjectDataFrame.csv', index=False)\n",
    "employee_df.to_csv('EmployeeDataFrame.csv', index=False)\n",
    "seniority_df.to_csv('SenioriryDataFrame.csv', index=False)\n",
    "# Read the CSV files\n",
    "project_df_read = pandas.read_csv('ProjectDataFrame.csv')\n",
    "employee_df_read = pandas.read_csv('EmployeeDataFrame.csv')\n",
    "seniority_df_read = pandas.read_csv('SenioriryDataFrame.csv')\n",
    "#printing all dataframes\n",
    "print(project_df_read)\n",
    "print()\n",
    "print(employee_df_read)\n",
    "print()\n",
    "print(seniority_df_read)"
   ]
  },
  {
   "cell_type": "markdown",
   "metadata": {},
   "source": [
    "# Task 2"
   ]
  },
  {
   "cell_type": "code",
   "execution_count": 17,
   "metadata": {},
   "outputs": [
    {
     "name": "stdout",
     "output_type": "stream",
     "text": [
      "      ID     Project       Cost    Status\n",
      "0   A001   Project 1  1002000.0  Finished\n",
      "1   A002   Project 2  2000000.0   Ongoing\n",
      "2   A003   Project 3  4500000.0  Finished\n",
      "3   A004   Project 4  5500000.0   Ongoing\n",
      "4   A005   Project 5        NaN  Finished\n",
      "5   A002   Project 6   680000.0    Failed\n",
      "6   A005   Project 7   400000.0  Finished\n",
      "7   A003   Project 8   350000.0    Failed\n",
      "8   A001   Project 9        NaN   Ongoing\n",
      "9   A003  Project 10   300000.0  Finished\n",
      "10  A001  Project 11  2000000.0    Failed\n",
      "11  A004  Project 12  1000000.0   Ongoing\n",
      "12  A004  Project 13  3000000.0  Finished\n",
      "13  A005  Project 14   200000.0  Finished\n",
      "\n",
      "      ID     Project          Cost    Status\n",
      "0   A001   Project 1  1.002000e+06  Finished\n",
      "1   A002   Project 2  2.000000e+06   Ongoing\n",
      "2   A003   Project 3  4.500000e+06  Finished\n",
      "3   A004   Project 4  5.500000e+06   Ongoing\n",
      "4   A005   Project 5  3.250500e+06  Finished\n",
      "5   A002   Project 6  6.800000e+05    Failed\n",
      "6   A005   Project 7  4.000000e+05  Finished\n",
      "7   A003   Project 8  3.500000e+05    Failed\n",
      "8   A001   Project 9  2.061714e+06   Ongoing\n",
      "9   A003  Project 10  3.000000e+05  Finished\n",
      "10  A001  Project 11  2.000000e+06    Failed\n",
      "11  A004  Project 12  1.000000e+06   Ongoing\n",
      "12  A004  Project 13  3.000000e+06  Finished\n",
      "13  A005  Project 14  2.000000e+05  Finished\n"
     ]
    }
   ],
   "source": [
    "#Printing project dataframe\n",
    "print(project_df_read)\n",
    "\n",
    "costs = project_df_read['Cost']\n",
    "# Initialize variables for the running average\n",
    "total = 0\n",
    "count = 0\n",
    "new_costs = []\n",
    "# Calculate running average and replace missing values\n",
    "for cost in costs:\n",
    "    if pandas.notna(cost):\n",
    "        total += cost\n",
    "        count += 1\n",
    "        new_costs.append(cost)\n",
    "    else:\n",
    "        new_costs.append(total/count)\n",
    "# Update the DataFrame with the new 'Cost' values\n",
    "project_df_read['Cost'] = new_costs\n",
    "print()\n",
    "# Display the DataFrame after replacing missing values\n",
    "print(project_df_read)\n",
    "#Save the modified DataFrame\n",
    "project_df_read.to_csv('UpdatedProjectDataFrame.csv', index=False)"
   ]
  },
  {
   "cell_type": "markdown",
   "metadata": {},
   "source": [
    "# Task 3"
   ]
  },
  {
   "cell_type": "code",
   "execution_count": 18,
   "metadata": {},
   "outputs": [
    {
     "name": "stdout",
     "output_type": "stream",
     "text": [
      "     ID Gender     City  Age First Name  Last Name\n",
      "0  A001      M    Paris   25       John      Alter\n",
      "1  A002      F   London   27      Alice  Luxumberg\n",
      "2  A003      M   Berlin   29        Tom  Sabestine\n",
      "3  A004      F  Newyork   31       Nina      Adgra\n",
      "4  A005      F   Madrid   30        Amy      Johny\n"
     ]
    }
   ],
   "source": [
    "\n",
    "\n",
    "#Split the \"Name\" column into \"First Name\" and \"Last Name\"\n",
    "names = employee_df_read.Name.str.split(' ')\n",
    "employee_df_read['First Name'] = [x[0] for x in names]\n",
    "employee_df_read['Last Name'] = [x[1] for x in names]\n",
    "#Drop the original \"Name\" column\n",
    "employee_df_read.drop('Name', axis=1, inplace=True)\n",
    "print(employee_df_read)\n",
    "# Save the modified DataFrame to a new CSV file\n",
    "employee_df_read.to_csv('Modified_EmployeeDataFrame.csv', index=False)"
   ]
  },
  {
   "cell_type": "markdown",
   "metadata": {},
   "source": [
    "# Task 4"
   ]
  },
  {
   "cell_type": "code",
   "execution_count": 21,
   "metadata": {},
   "outputs": [
    {
     "name": "stdout",
     "output_type": "stream",
     "text": [
      "      ID     Project          Cost    Status Gender     City  Age First Name  \\\n",
      "0   A001   Project 1  1.002000e+06  Finished      M    Paris   25       John   \n",
      "1   A001   Project 9  2.061714e+06   Ongoing      M    Paris   25       John   \n",
      "2   A001  Project 11  2.000000e+06    Failed      M    Paris   25       John   \n",
      "3   A002   Project 2  2.000000e+06   Ongoing      F   London   27      Alice   \n",
      "4   A002   Project 6  6.800000e+05    Failed      F   London   27      Alice   \n",
      "5   A003   Project 3  4.500000e+06  Finished      M   Berlin   29        Tom   \n",
      "6   A003   Project 8  3.500000e+05    Failed      M   Berlin   29        Tom   \n",
      "7   A003  Project 10  3.000000e+05  Finished      M   Berlin   29        Tom   \n",
      "8   A004   Project 4  5.500000e+06   Ongoing      F  Newyork   31       Nina   \n",
      "9   A004  Project 12  1.000000e+06   Ongoing      F  Newyork   31       Nina   \n",
      "10  A004  Project 13  3.000000e+06  Finished      F  Newyork   31       Nina   \n",
      "11  A005   Project 5  3.250500e+06  Finished      F   Madrid   30        Amy   \n",
      "12  A005   Project 7  4.000000e+05  Finished      F   Madrid   30        Amy   \n",
      "13  A005  Project 14  2.000000e+05  Finished      F   Madrid   30        Amy   \n",
      "\n",
      "    Last Name  Designation Level  \n",
      "0       Alter                  2  \n",
      "1       Alter                  2  \n",
      "2       Alter                  2  \n",
      "3   Luxumberg                  2  \n",
      "4   Luxumberg                  2  \n",
      "5   Sabestine                  3  \n",
      "6   Sabestine                  3  \n",
      "7   Sabestine                  3  \n",
      "8       Adgra                  2  \n",
      "9       Adgra                  2  \n",
      "10      Adgra                  2  \n",
      "11      Johny                  3  \n",
      "12      Johny                  3  \n",
      "13      Johny                  3  \n"
     ]
    }
   ],
   "source": [
    "# Reading the DataFrames from CSV files\n",
    "project_df_read = pandas.read_csv('UpdatedProjectDataFrame.csv')\n",
    "employee_df_read = pandas.read_csv('Modified_EmployeeDataFrame.csv')\n",
    "seniority_df_read = pandas.read_csv('SenioriryDataFrame.csv')\n",
    "\n",
    "#Merge the project and enployee dataframe on 'ID'\n",
    "Final = pandas.merge(project_df_read, employee_df_read, on='ID')\n",
    "#Merge the resulting dataframe with seniority dataframe on 'ID'\n",
    "Final = pandas.merge(Final, seniority_df_read, on='ID')\n",
    "#dispaying final result\n",
    "print(Final)\n",
    "# Saving the final DataFrame to a new CSV file\n",
    "Final.to_csv('Final_MergedDataFrame.csv', index=False)"
   ]
  },
  {
   "cell_type": "markdown",
   "metadata": {},
   "source": [
    "# Task 5"
   ]
  },
  {
   "cell_type": "code",
   "execution_count": 22,
   "metadata": {},
   "outputs": [
    {
     "name": "stdout",
     "output_type": "stream",
     "text": [
      "      ID     Project          Cost    Status Gender     City  Age First Name  \\\n",
      "0   A001   Project 1  1.002000e+06  Finished      M    Paris   25       John   \n",
      "1   A001   Project 9  2.061714e+06   Ongoing      M    Paris   25       John   \n",
      "2   A001  Project 11  2.000000e+06    Failed      M    Paris   25       John   \n",
      "3   A002   Project 2  2.000000e+06   Ongoing      F   London   27      Alice   \n",
      "4   A002   Project 6  6.800000e+05    Failed      F   London   27      Alice   \n",
      "5   A003   Project 3  4.500000e+06  Finished      M   Berlin   29        Tom   \n",
      "6   A003   Project 8  3.500000e+05    Failed      M   Berlin   29        Tom   \n",
      "7   A003  Project 10  3.000000e+05  Finished      M   Berlin   29        Tom   \n",
      "8   A004   Project 4  5.500000e+06   Ongoing      F  Newyork   31       Nina   \n",
      "9   A004  Project 12  1.000000e+06   Ongoing      F  Newyork   31       Nina   \n",
      "10  A004  Project 13  3.000000e+06  Finished      F  Newyork   31       Nina   \n",
      "11  A005   Project 5  3.250500e+06  Finished      F   Madrid   30        Amy   \n",
      "12  A005   Project 7  4.000000e+05  Finished      F   Madrid   30        Amy   \n",
      "13  A005  Project 14  2.000000e+05  Finished      F   Madrid   30        Amy   \n",
      "\n",
      "    Last Name  Designation Level     Bonus  \n",
      "0       Alter                  2   50100.0  \n",
      "1       Alter                  2       NaN  \n",
      "2       Alter                  2       NaN  \n",
      "3   Luxumberg                  2       NaN  \n",
      "4   Luxumberg                  2       NaN  \n",
      "5   Sabestine                  3  225000.0  \n",
      "6   Sabestine                  3       NaN  \n",
      "7   Sabestine                  3   15000.0  \n",
      "8       Adgra                  2       NaN  \n",
      "9       Adgra                  2       NaN  \n",
      "10      Adgra                  2  150000.0  \n",
      "11      Johny                  3  162525.0  \n",
      "12      Johny                  3   20000.0  \n",
      "13      Johny                  3   10000.0  \n"
     ]
    }
   ],
   "source": [
    "# Load the Final DataFrame\n",
    "Final = pandas.read_csv('Final_MergedDataFrame.csv')\n",
    "completed_projects = Final['Status']=='Finished'\n",
    "# Compute the Bonus\n",
    "Final['Bonus'] = Final['Cost'].where(completed_projects) * 5/100  \n",
    "# Display the DataFrame after adding the Bonus column\n",
    "print(Final)\n",
    "# Save the updated DataFrame\n",
    "Final.to_csv('final.csv', index=False)"
   ]
  },
  {
   "cell_type": "markdown",
   "metadata": {},
   "source": [
    "# Task 6"
   ]
  },
  {
   "cell_type": "code",
   "execution_count": 23,
   "metadata": {},
   "outputs": [
    {
     "name": "stdout",
     "output_type": "stream",
     "text": [
      "      ID     Project          Cost    Status Gender     City  Age First Name  \\\n",
      "0   A001   Project 1  1.002000e+06  Finished      M    Paris   25       John   \n",
      "1   A001   Project 9  2.061714e+06   Ongoing      M    Paris   25       John   \n",
      "2   A001  Project 11  2.000000e+06    Failed      M    Paris   25       John   \n",
      "3   A002   Project 2  2.000000e+06   Ongoing      F   London   27      Alice   \n",
      "4   A002   Project 6  6.800000e+05    Failed      F   London   27      Alice   \n",
      "5   A003   Project 3  4.500000e+06  Finished      M   Berlin   29        Tom   \n",
      "6   A003   Project 8  3.500000e+05    Failed      M   Berlin   29        Tom   \n",
      "7   A003  Project 10  3.000000e+05  Finished      M   Berlin   29        Tom   \n",
      "8   A004   Project 4  5.500000e+06   Ongoing      F  Newyork   31       Nina   \n",
      "9   A004  Project 12  1.000000e+06   Ongoing      F  Newyork   31       Nina   \n",
      "10  A004  Project 13  3.000000e+06  Finished      F  Newyork   31       Nina   \n",
      "11  A005   Project 5  3.250500e+06  Finished      F   Madrid   30        Amy   \n",
      "12  A005   Project 7  4.000000e+05  Finished      F   Madrid   30        Amy   \n",
      "13  A005  Project 14  2.000000e+05  Finished      F   Madrid   30        Amy   \n",
      "\n",
      "    Last Name  Designation Level     Bonus  \n",
      "0       Alter                  2   50100.0  \n",
      "1       Alter                  2       NaN  \n",
      "2       Alter                  1       NaN  \n",
      "3   Luxumberg                  2       NaN  \n",
      "4   Luxumberg                  1       NaN  \n",
      "5   Sabestine                  3  225000.0  \n",
      "6   Sabestine                  2       NaN  \n",
      "7   Sabestine                  3   15000.0  \n",
      "8       Adgra                  2       NaN  \n",
      "9       Adgra                  2       NaN  \n",
      "10      Adgra                  2  150000.0  \n",
      "11      Johny                  3  162525.0  \n",
      "12      Johny                  3   20000.0  \n",
      "13      Johny                  3   10000.0  \n"
     ]
    }
   ],
   "source": [
    "# Load the Final DataFrame\n",
    "Final = pandas.read_csv('final.csv')\n",
    "#Demote the designation level by 1 for employees whose projects have a status of \"fail\"\n",
    "Final['Designation Level'] = Final['Designation Level'].where(Final['Status'] != 'Failed', Final['Designation Level'] - 1)\n",
    "# Filter out the records of employees whose designation level is above 4\n",
    "Final = Final[Final['Designation Level'] < 4]\n",
    "# Display the updated DataFrame\n",
    "print(Final)\n",
    "# Save the updated DataFrame to a new CSV file\n",
    "Final.to_csv('Updated_Final.csv', index=False)"
   ]
  },
  {
   "cell_type": "markdown",
   "metadata": {},
   "source": [
    "# Task 7"
   ]
  },
  {
   "cell_type": "code",
   "execution_count": 24,
   "metadata": {},
   "outputs": [
    {
     "name": "stdout",
     "output_type": "stream",
     "text": [
      "      ID     Project          Cost    Status     City  Age First Name  \\\n",
      "0   A001   Project 1  1.002000e+06  Finished    Paris   25    Mr John   \n",
      "1   A001   Project 9  2.061714e+06   Ongoing    Paris   25    Mr John   \n",
      "2   A001  Project 11  2.000000e+06    Failed    Paris   25    Mr John   \n",
      "3   A002   Project 2  2.000000e+06   Ongoing   London   27  Mrs Alice   \n",
      "4   A002   Project 6  6.800000e+05    Failed   London   27  Mrs Alice   \n",
      "5   A003   Project 3  4.500000e+06  Finished   Berlin   29     Mr Tom   \n",
      "6   A003   Project 8  3.500000e+05    Failed   Berlin   29     Mr Tom   \n",
      "7   A003  Project 10  3.000000e+05  Finished   Berlin   29     Mr Tom   \n",
      "8   A004   Project 4  5.500000e+06   Ongoing  Newyork   31   Mrs Nina   \n",
      "9   A004  Project 12  1.000000e+06   Ongoing  Newyork   31   Mrs Nina   \n",
      "10  A004  Project 13  3.000000e+06  Finished  Newyork   31   Mrs Nina   \n",
      "11  A005   Project 5  3.250500e+06  Finished   Madrid   30    Mrs Amy   \n",
      "12  A005   Project 7  4.000000e+05  Finished   Madrid   30    Mrs Amy   \n",
      "13  A005  Project 14  2.000000e+05  Finished   Madrid   30    Mrs Amy   \n",
      "\n",
      "    Last Name  Designation Level     Bonus  \n",
      "0       Alter                  2   50100.0  \n",
      "1       Alter                  2       NaN  \n",
      "2       Alter                  1       NaN  \n",
      "3   Luxumberg                  2       NaN  \n",
      "4   Luxumberg                  1       NaN  \n",
      "5   Sabestine                  3  225000.0  \n",
      "6   Sabestine                  2       NaN  \n",
      "7   Sabestine                  3   15000.0  \n",
      "8       Adgra                  2       NaN  \n",
      "9       Adgra                  2       NaN  \n",
      "10      Adgra                  2  150000.0  \n",
      "11      Johny                  3  162525.0  \n",
      "12      Johny                  3   20000.0  \n",
      "13      Johny                  3   10000.0  \n"
     ]
    }
   ],
   "source": [
    "# Load the Final DataFrame\n",
    "Final = pandas.read_csv('Updated_Final.csv')\n",
    "# Add 'Mr.' or 'Mrs.' prefix to the 'First Name' column based on the 'Gender' column\n",
    "Final['First Name'] = numpy.where(Final['Gender'] == 'M',  'Mr ' + Final['First Name'], 'Mrs ' + Final['First Name'])\n",
    "# Drop the 'Gender' column\n",
    "Final.drop('Gender', axis=1, inplace=True)\n",
    "# Display the DataFrame after modification\n",
    "print(Final)\n",
    "# Save the modified DataFrame to CSV file\n",
    "Final.to_csv('Modified_Final.csv', index=False)"
   ]
  },
  {
   "cell_type": "markdown",
   "metadata": {},
   "source": [
    "# Task 8"
   ]
  },
  {
   "cell_type": "code",
   "execution_count": 27,
   "metadata": {},
   "outputs": [
    {
     "name": "stdout",
     "output_type": "stream",
     "text": [
      "      ID     Project          Cost    Status     City  Age First Name  \\\n",
      "0   A001   Project 1  1.002000e+06  Finished    Paris   25    Mr John   \n",
      "1   A001   Project 9  2.061714e+06   Ongoing    Paris   25    Mr John   \n",
      "2   A001  Project 11  2.000000e+06    Failed    Paris   25    Mr John   \n",
      "3   A002   Project 2  2.000000e+06   Ongoing   London   27  Mrs Alice   \n",
      "4   A002   Project 6  6.800000e+05    Failed   London   27  Mrs Alice   \n",
      "5   A003   Project 3  4.500000e+06  Finished   Berlin   29     Mr Tom   \n",
      "6   A003   Project 8  3.500000e+05    Failed   Berlin   29     Mr Tom   \n",
      "7   A003  Project 10  3.000000e+05  Finished   Berlin   29     Mr Tom   \n",
      "8   A004   Project 4  5.500000e+06   Ongoing  Newyork   31   Mrs Nina   \n",
      "9   A004  Project 12  1.000000e+06   Ongoing  Newyork   31   Mrs Nina   \n",
      "10  A004  Project 13  3.000000e+06  Finished  Newyork   31   Mrs Nina   \n",
      "11  A005   Project 5  3.250500e+06  Finished   Madrid   30    Mrs Amy   \n",
      "12  A005   Project 7  4.000000e+05  Finished   Madrid   30    Mrs Amy   \n",
      "13  A005  Project 14  2.000000e+05  Finished   Madrid   30    Mrs Amy   \n",
      "\n",
      "    Last Name  Designation Level     Bonus  \n",
      "0       Alter                  2   50100.0  \n",
      "1       Alter                  2       NaN  \n",
      "2       Alter                  1       NaN  \n",
      "3   Luxumberg                  2       NaN  \n",
      "4   Luxumberg                  1       NaN  \n",
      "5   Sabestine                  3  225000.0  \n",
      "6   Sabestine                  2       NaN  \n",
      "7   Sabestine                  3   15000.0  \n",
      "8       Adgra                  3       NaN  \n",
      "9       Adgra                  3       NaN  \n",
      "10      Adgra                  3  150000.0  \n",
      "11      Johny                  4  162525.0  \n",
      "12      Johny                  4   20000.0  \n",
      "13      Johny                  4   10000.0  \n"
     ]
    }
   ],
   "source": [
    "# Load the Final DataFrame from CSV\n",
    "Final= pandas.read_csv('Modified_Final.csv')\n",
    "# Promote designation level by 1 for employees whose age is more than 29 years\n",
    "for index, row in Final.iterrows():\n",
    "    if row['Age'] > 29:\n",
    "        Final.at[index, 'Designation Level'] = row['Designation Level'] + 1\n",
    "\n",
    "# Display the DataFrame after modification\n",
    "print(Final)\n",
    "# Save the modified DataFrame to CSV file\n",
    "Final.to_csv('Modified_Final_Task8.csv', index=False)"
   ]
  },
  {
   "cell_type": "markdown",
   "metadata": {},
   "source": [
    "# Task 9"
   ]
  },
  {
   "cell_type": "code",
   "execution_count": 28,
   "metadata": {},
   "outputs": [
    {
     "name": "stdout",
     "output_type": "stream",
     "text": [
      "     ID First Name    Total cost\n",
      "0  A001    Mr John  5.063714e+06\n",
      "1  A002  Mrs Alice  2.680000e+06\n",
      "2  A003     Mr Tom  5.150000e+06\n",
      "3  A004   Mrs Nina  9.500000e+06\n",
      "4  A005    Mrs Amy  3.850500e+06\n"
     ]
    }
   ],
   "source": [
    "# Load the Final DataFrame from CSV\n",
    "Final= pandas.read_csv('Modified_Final_Task8.csv')\n",
    "# Create TotalProjCost DataFrame with ID, First Name, and Cost columns\n",
    "TotalProjCost = Final[['ID', 'First Name', 'Cost']]\n",
    "# Group by ID and First Name and sum the project costs\n",
    "TotalProjCost = TotalProjCost.groupby(['ID', 'First Name']).sum().reset_index()\n",
    "#Rename the 'Cost' column to 'Total Cost'\n",
    "TotalProjCost = TotalProjCost.rename(columns={'Cost': 'Total cost'})\n",
    "# Display the TotalProjCost DataFrame\n",
    "print(TotalProjCost)\n",
    "# Save the modified TotalProjCost DataFrame to CSV file\n",
    "TotalProjCost.to_csv('TotalProjCost.csv', index=False)"
   ]
  },
  {
   "cell_type": "markdown",
   "metadata": {},
   "source": [
    "# Task 10"
   ]
  },
  {
   "cell_type": "code",
   "execution_count": 31,
   "metadata": {},
   "outputs": [
    {
     "name": "stdout",
     "output_type": "stream",
     "text": [
      "     ID Gender     City  Age First Name  Last Name\n",
      "1  A002      F   London   27      Alice  Luxumberg\n",
      "3  A004      F  Newyork   31       Nina      Adgra\n"
     ]
    }
   ],
   "source": [
    "# Read the Employee DataFrame from CSV file\n",
    "employee_df_read = pandas.read_csv('Modified_EmployeeDataFrame.csv')\n",
    "#Filter employees whose city name contains the letter \"o\" and print the filtered DataFrame\n",
    "print(employee_df_read[numpy.where(employee_df_read['City'].str.contains('o'), True, False)])\n",
    "# Save the filtered DataFrame to CSV file\n",
    "employee_df_read.to_csv('Employees_With_O_In_City.csv', index=False)"
   ]
  },
  {
   "cell_type": "code",
   "execution_count": null,
   "metadata": {},
   "outputs": [],
   "source": []
  }
 ],
 "metadata": {
  "kernelspec": {
   "display_name": "Python 3 (ipykernel)",
   "language": "python",
   "name": "python3"
  },
  "language_info": {
   "codemirror_mode": {
    "name": "ipython",
    "version": 3
   },
   "file_extension": ".py",
   "mimetype": "text/x-python",
   "name": "python",
   "nbconvert_exporter": "python",
   "pygments_lexer": "ipython3",
   "version": "3.11.7"
  }
 },
 "nbformat": 4,
 "nbformat_minor": 2
}
